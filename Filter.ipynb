{
 "cells": [
  {
   "cell_type": "code",
   "execution_count": 3,
   "metadata": {},
   "outputs": [],
   "source": [
    "%load_ext autoreload\n",
    "%autoreload 2\n",
    "%matplotlib inline\n",
    "from lr.train import train_lr\n",
    "from lr.hyperparameters import BEST_HPS\n",
    "import pandas as pd"
   ]
  },
  {
   "cell_type": "markdown",
   "metadata": {},
   "source": [
    "## Download training data"
   ]
  },
  {
   "cell_type": "markdown",
   "metadata": {},
   "source": [
    "The training data consists of about 600M whitespace tokens; 300M tokens from Common Crawl, 100M tokens from OpenWebText, Wikipedia, and Books3 corpus each. The test/dev data are 10M tokens each."
   ]
  },
  {
   "cell_type": "code",
   "execution_count": 4,
   "metadata": {},
   "outputs": [
    {
     "name": "stdout",
     "output_type": "stream",
     "text": [
      "  % Total    % Received % Xferd  Average Speed   Time    Time     Time  Current\n",
      "                                 Dload  Upload   Total   Spent    Left  Speed\n",
      "100  367M  100  367M    0     0  27.0M      0  0:00:13  0:00:13 --:--:-- 30.0M\n",
      "  % Total    % Received % Xferd  Average Speed   Time    Time     Time  Current\n",
      "                                 Dload  Upload   Total   Spent    Left  Speed\n",
      "100  349M  100  349M    0     0  29.0M      0  0:00:12  0:00:12 --:--:-- 28.4M\n",
      "  % Total    % Received % Xferd  Average Speed   Time    Time     Time  Current\n",
      "                                 Dload  Upload   Total   Spent    Left  Speed\n",
      "100 2878M  100 2878M    0     0  31.9M      0  0:01:30  0:01:30 --:--:-- 49.9M.5M      0  0:04:09 --:--:--  0:04:09 11.5M    0  0:01:35  0:00:31  0:01:04 21.2M\n"
     ]
    }
   ],
   "source": [
    "!mkdir -p filter_data\n",
    "!curl -Lo filter_data/test.jsonl http://arkdata.cs.washington.edu/sg01/gpt3-filter/test.jsonl\n",
    "!curl -Lo filter_data/dev.jsonl http://arkdata.cs.washington.edu/sg01/gpt3-filter/dev.jsonl\n",
    "!curl -Lo filter_data/train.jsonl http://arkdata.cs.washington.edu/sg01/gpt3-filter/train.jsonl\n",
    "\n"
   ]
  },
  {
   "cell_type": "markdown",
   "metadata": {},
   "source": [
    "## Read data"
   ]
  },
  {
   "cell_type": "code",
   "execution_count": 4,
   "metadata": {},
   "outputs": [],
   "source": [
    "train = pd.read_json('filter_data/train.jsonl', lines=True)\n",
    "dev = pd.read_json('filter_data/dev.jsonl', lines=True)\n",
    "test = pd.read_json('filter_data/test.jsonl', lines=True)"
   ]
  },
  {
   "cell_type": "markdown",
   "metadata": {},
   "source": [
    "## Train Classifer"
   ]
  },
  {
   "cell_type": "markdown",
   "metadata": {},
   "source": [
    "(this will take about 10-15 minutes)"
   ]
  },
  {
   "cell_type": "code",
   "execution_count": 5,
   "metadata": {},
   "outputs": [
    {
     "name": "stderr",
     "output_type": "stream",
     "text": [
      "/homes/gws/sg01/quality-filter/lr/train.py:36: FutureWarning: In a future version of pandas all arguments of concat except for the argument 'objs' will be keyword-only\n",
      "  master = pd.concat([train, dev], 0)\n",
      "                                                                                                                                                                                  \r"
     ]
    }
   ],
   "source": [
    "clf, vectorizer, results = train_lr(train, dev, test, BEST_HPS)"
   ]
  },
  {
   "cell_type": "code",
   "execution_count": 11,
   "metadata": {},
   "outputs": [
    {
     "data": {
      "text/html": [
       "<div>\n",
       "<style scoped>\n",
       "    .dataframe tbody tr th:only-of-type {\n",
       "        vertical-align: middle;\n",
       "    }\n",
       "\n",
       "    .dataframe tbody tr th {\n",
       "        vertical-align: top;\n",
       "    }\n",
       "\n",
       "    .dataframe thead th {\n",
       "        text-align: right;\n",
       "    }\n",
       "</style>\n",
       "<table border=\"1\" class=\"dataframe\">\n",
       "  <thead>\n",
       "    <tr style=\"text-align: right;\">\n",
       "      <th></th>\n",
       "      <th>penalty</th>\n",
       "      <th>C</th>\n",
       "      <th>multi_class</th>\n",
       "      <th>solver</th>\n",
       "      <th>tol</th>\n",
       "      <th>random_state</th>\n",
       "      <th>dev_f1</th>\n",
       "      <th>test_f1</th>\n",
       "      <th>dev_accuracy</th>\n",
       "      <th>test_accuracy</th>\n",
       "      <th>training_duration</th>\n",
       "      <th>ngram_range</th>\n",
       "      <th>weight</th>\n",
       "      <th>stopwords</th>\n",
       "    </tr>\n",
       "  </thead>\n",
       "  <tbody>\n",
       "    <tr>\n",
       "      <th>0</th>\n",
       "      <td>l1</td>\n",
       "      <td>0.977778</td>\n",
       "      <td>auto</td>\n",
       "      <td>liblinear</td>\n",
       "      <td>0.000816</td>\n",
       "      <td>44555</td>\n",
       "      <td>0.902953</td>\n",
       "      <td>0.904029</td>\n",
       "      <td>0.916117</td>\n",
       "      <td>0.917365</td>\n",
       "      <td>878.14413</td>\n",
       "      <td>[1, 2]</td>\n",
       "      <td>hash</td>\n",
       "      <td>None</td>\n",
       "    </tr>\n",
       "  </tbody>\n",
       "</table>\n",
       "</div>"
      ],
      "text/plain": [
       "  penalty         C multi_class     solver       tol  random_state    dev_f1  \\\n",
       "0      l1  0.977778        auto  liblinear  0.000816         44555  0.902953   \n",
       "\n",
       "    test_f1  dev_accuracy  test_accuracy  training_duration ngram_range  \\\n",
       "0  0.904029      0.916117       0.917365          878.14413      [1, 2]   \n",
       "\n",
       "  weight stopwords  \n",
       "0   hash      None  "
      ]
     },
     "execution_count": 11,
     "metadata": {},
     "output_type": "execute_result"
    }
   ],
   "source": [
    "results"
   ]
  },
  {
   "cell_type": "code",
   "execution_count": 6,
   "metadata": {},
   "outputs": [],
   "source": [
    "from data.score import score"
   ]
  },
  {
   "cell_type": "code",
   "execution_count": 18,
   "metadata": {},
   "outputs": [
    {
     "data": {
      "text/plain": [
       "array([[0.21381688, 0.78618312]])"
      ]
     },
     "execution_count": 18,
     "metadata": {},
     "output_type": "execute_result"
    }
   ],
   "source": [
    "wiki_text = \"\"\"\n",
    "Blakeney Chapel is a ruined building on the Norfolk coast of England. Even though named as such, it was probably not a chapel, and is not in the adjoining village of Blakeney, but rather in the parish of Cley next the Sea. The building stood on a raised mound or \"eye\" on the seaward end of the coastal marshes, less than 200 m (220 yd) from the sea and just to the north of the current channel of the River Glaven where it turns to run parallel to the shoreline. It consisted of two rectangular rooms of unequal size, and appears to be intact in a 1586 map, but is shown as ruins in later charts. Only the foundations and part of a wall still remain. Three archaeological investigations between 1998 and 2005 provided more detail of the construction, and showed two distinct periods of active use. Although it is described as a chapel on several maps, there is no documentary or archaeological evidence to suggest that it had any religious function. A small hearth, probably used for smelting iron, is the only evidence of a specific activity on the site.\n",
    "\n",
    "Much of the structural material was long ago carried off for reuse in buildings in Cley and Blakeney. The surviving ruins are protected as a scheduled monument and Grade II listed building because of their historical importance, but there is no active management. The ever-present threat from the encroaching sea is likely to accelerate following a realignment of the Glaven's course through the marshes, and lead to the loss of the ruins.\n",
    "\"\"\"\n",
    "score(wiki_text, clf, vectorizer)"
   ]
  },
  {
   "cell_type": "code",
   "execution_count": 19,
   "metadata": {},
   "outputs": [
    {
     "data": {
      "text/plain": [
       "array([[0.91200186, 0.08799814]])"
      ]
     },
     "execution_count": 19,
     "metadata": {},
     "output_type": "execute_result"
    }
   ],
   "source": [
    "random_webtext = \"\"\"\n",
    "As someone who comes from a country with a lot of mountains and hills, I would highly recommend going trekking to places accessible only by foot. It's really nice to see the untouched,peaceful nature existing there, without humans to ruin it.\n",
    "\"\"\"\n",
    "score(random_webtext, clf, vectorizer)"
   ]
  },
  {
   "cell_type": "code",
   "execution_count": null,
   "metadata": {},
   "outputs": [],
   "source": []
  }
 ],
 "metadata": {
  "kernelspec": {
   "display_name": "demix",
   "language": "python",
   "name": "demix"
  },
  "language_info": {
   "codemirror_mode": {
    "name": "ipython",
    "version": 3
   },
   "file_extension": ".py",
   "mimetype": "text/x-python",
   "name": "python",
   "nbconvert_exporter": "python",
   "pygments_lexer": "ipython3",
   "version": "3.9.7"
  }
 },
 "nbformat": 4,
 "nbformat_minor": 4
}
