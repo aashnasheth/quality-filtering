{
 "cells": [
  {
   "cell_type": "code",
   "execution_count": 12,
   "metadata": {},
   "outputs": [
    {
     "name": "stdout",
     "output_type": "stream",
     "text": [
      "The autoreload extension is already loaded. To reload it, use:\n",
      "  %reload_ext autoreload\n"
     ]
    }
   ],
   "source": [
    "%load_ext autoreload\n",
    "%autoreload 2\n",
    "%matplotlib inline\n",
    "\n",
    "import pandas as pd\n",
    "import seaborn as sns\n",
    "import matplotlib.pyplot as plt\n",
    "from scipy import stats\n",
    "import numpy as np\n",
    "import pandas as pd\n",
    "from tqdm.auto import tqdm\n",
    "from data.loader import load_and_score\n",
    "from data.constants import DATA_DIR"
   ]
  },
  {
   "cell_type": "markdown",
   "metadata": {},
   "source": [
    "## Pulitzer Prizes"
   ]
  },
  {
   "cell_type": "code",
   "execution_count": 9,
   "metadata": {},
   "outputs": [
    {
     "data": {
      "application/vnd.jupyter.widget-view+json": {
       "model_id": "42ebd8fb1ad94dc68db78afe0d790779",
       "version_major": 2,
       "version_minor": 0
      },
      "text/plain": [
       "  0%|          | 0/616 [00:00<?, ?it/s]"
      ]
     },
     "metadata": {},
     "output_type": "display_data"
    },
    {
     "data": {
      "application/vnd.jupyter.widget-view+json": {
       "model_id": "c4cc1baa232b4aa89863ebec1f148174",
       "version_major": 2,
       "version_minor": 0
      },
      "text/plain": [
       "  0%|          | 0/616 [00:00<?, ?it/s]"
      ]
     },
     "metadata": {},
     "output_type": "display_data"
    },
    {
     "data": {
      "application/vnd.jupyter.widget-view+json": {
       "model_id": "3f3334fa5cf8472cbb0b0a87a3028855",
       "version_major": 2,
       "version_minor": 0
      },
      "text/plain": [
       "  0%|          | 0/60 [00:00<?, ?it/s]"
      ]
     },
     "metadata": {},
     "output_type": "display_data"
    },
    {
     "data": {
      "application/vnd.jupyter.widget-view+json": {
       "model_id": "a3f605bd00bd430dab55aa7bd9768927",
       "version_major": 2,
       "version_minor": 0
      },
      "text/plain": [
       "  0%|          | 0/60 [00:00<?, ?it/s]"
      ]
     },
     "metadata": {},
     "output_type": "display_data"
    },
    {
     "data": {
      "application/vnd.jupyter.widget-view+json": {
       "model_id": "64ce28a5be19487983ca3b32477f593e",
       "version_major": 2,
       "version_minor": 0
      },
      "text/plain": [
       "  0%|          | 0/33 [00:00<?, ?it/s]"
      ]
     },
     "metadata": {},
     "output_type": "display_data"
    },
    {
     "data": {
      "application/vnd.jupyter.widget-view+json": {
       "model_id": "18cb771acb0f406098e93507847f9387",
       "version_major": 2,
       "version_minor": 0
      },
      "text/plain": [
       "  0%|          | 0/33 [00:00<?, ?it/s]"
      ]
     },
     "metadata": {},
     "output_type": "display_data"
    },
    {
     "data": {
      "application/vnd.jupyter.widget-view+json": {
       "model_id": "8e856833ac6d4be9a2aee397048c9ce7",
       "version_major": 2,
       "version_minor": 0
      },
      "text/plain": [
       "  0%|          | 0/14 [00:00<?, ?it/s]"
      ]
     },
     "metadata": {},
     "output_type": "display_data"
    },
    {
     "data": {
      "application/vnd.jupyter.widget-view+json": {
       "model_id": "3fc3e1a2f84b490f8f090aace5153619",
       "version_major": 2,
       "version_minor": 0
      },
      "text/plain": [
       "  0%|          | 0/14 [00:00<?, ?it/s]"
      ]
     },
     "metadata": {},
     "output_type": "display_data"
    },
    {
     "data": {
      "application/vnd.jupyter.widget-view+json": {
       "model_id": "d9b9546b28474d71bf00e2a0ac1d9055",
       "version_major": 2,
       "version_minor": 0
      },
      "text/plain": [
       "  0%|          | 0/13 [00:00<?, ?it/s]"
      ]
     },
     "metadata": {},
     "output_type": "display_data"
    },
    {
     "data": {
      "application/vnd.jupyter.widget-view+json": {
       "model_id": "e93624f920f24fe8943ef45932863617",
       "version_major": 2,
       "version_minor": 0
      },
      "text/plain": [
       "  0%|          | 0/13 [00:00<?, ?it/s]"
      ]
     },
     "metadata": {},
     "output_type": "display_data"
    },
    {
     "name": "stderr",
     "output_type": "stream",
     "text": [
      "/tmp/ipykernel_9341/1700142485.py:20: FutureWarning: In a future version of pandas all arguments of concat except for the argument 'objs' will be keyword-only\n",
      "  m = pd.concat([ff.sample(pp.shape[0]), pp, ppoetry, pnf, pdra], 0)\n"
     ]
    },
    {
     "data": {
      "image/png": "[encoded data removed]",
      "text/plain": [
       "<Figure size 432x288 with 1 Axes>"
      ]
     },
     "metadata": {},
     "output_type": "display_data"
    }
   ],
   "source": [
    "\n",
    "ff = load_and_score(\"../demix-data/fanfiction.jsonl\")\n",
    "ff['genre'] = 'fan fiction'\n",
    "\n",
    "pp = load_and_score(\"../demix-data/pulitzer_prize_fiction.jsonl\")\n",
    "\n",
    "pp['genre'] = 'fiction'\n",
    "\n",
    "ppoetry = load_and_score(\"../demix-data/pulitzer_prize_poetry.jsonl\")\n",
    "\n",
    "ppoetry['genre'] = 'poetry'\n",
    "\n",
    "pnf = load_and_score(\"../demix-data/pulitzer_prize_nonfiction.jsonl\")\n",
    "\n",
    "pnf['genre'] = 'nonfiction'\n",
    "\n",
    "pdra = load_and_score(\"../demix-data/pulitzer_prize_drama.jsonl\")\n",
    "\n",
    "pdra['genre'] = 'drama'\n",
    "\n",
    "m = pd.concat([ff.sample(pp.shape[0]), pp, ppoetry, pnf, pdra], 0)\n",
    "\n",
    "sns.set(style='white',font_scale=1.2,context='paper')\n",
    "ax = sns.boxplot(data=m, x='genre', y='prob_high_quality', linewidth=2, order=['nonfiction', 'fiction', 'poetry', 'drama'])\n",
    "plt.axhline(y=ff.prob_high_quality.median(), color='gray', linestyle='--')\n",
    "plt.text(-0.45, 0.46, \"median quality\", fontsize=12,fontstyle='italic')\n",
    "plt.text(-0.45, 0.41, \"of BooksCorpus\", fontsize=12,fontstyle='italic')\n",
    "\n",
    "\n",
    "from matplotlib import patches\n",
    "style = \"Simple, tail_width=0.5, head_width=4, head_length=8\"\n",
    "kw = dict(arrowstyle=style, color=\"k\")\n",
    "a1 = patches.FancyArrowPatch((0.6, 0.42), (0.8, ff.prob_high_quality.median()),\n",
    "                        connectionstyle=\"arc3,rad=.5\", **kw)\n",
    "\n",
    "for a in [a1]:\n",
    "    plt.gca().add_patch(a)\n",
    "    \n",
    "ax.set_ylabel(\"P(high quality)\")\n",
    "ax.set_xlabel(\"Pulitzer Prize Category\")\n",
    "plt.tight_layout()\n",
    "# plt.savefig(\"pulitzer_prize.pdf\", dpi=300, bbox_inches='tight')\n"
   ]
  },
  {
   "cell_type": "markdown",
   "metadata": {},
   "source": [
    "## High and low factuality news"
   ]
  },
  {
   "cell_type": "code",
   "execution_count": 13,
   "metadata": {},
   "outputs": [
    {
     "data": {
      "application/vnd.jupyter.widget-view+json": {
       "model_id": "fd8ba3d9fd90498aa11cabe2ad443eda",
       "version_major": 2,
       "version_minor": 0
      },
      "text/plain": [
       "  0%|          | 0/9939 [00:00<?, ?it/s]"
      ]
     },
     "metadata": {},
     "output_type": "display_data"
    },
    {
     "data": {
      "application/vnd.jupyter.widget-view+json": {
       "model_id": "76e3b33249964dc1966a7a5490d29dae",
       "version_major": 2,
       "version_minor": 0
      },
      "text/plain": [
       "  0%|          | 0/9939 [00:00<?, ?it/s]"
      ]
     },
     "metadata": {},
     "output_type": "display_data"
    },
    {
     "data": {
      "application/vnd.jupyter.widget-view+json": {
       "model_id": "481671877b1f4362bf03ec4d6f7db4a1",
       "version_major": 2,
       "version_minor": 0
      },
      "text/plain": [
       "  0%|          | 0/7662 [00:00<?, ?it/s]"
      ]
     },
     "metadata": {},
     "output_type": "display_data"
    },
    {
     "data": {
      "application/vnd.jupyter.widget-view+json": {
       "model_id": "ae51480ef2e94f2cb8987d5a6ade65a0",
       "version_major": 2,
       "version_minor": 0
      },
      "text/plain": [
       "  0%|          | 0/7662 [00:00<?, ?it/s]"
      ]
     },
     "metadata": {},
     "output_type": "display_data"
    }
   ],
   "source": [
    "high_news = load_and_score(path=DATA_DIR / \"articles-high-reliability-clean.jsonl\")\n",
    "low_news = load_and_score(path=DATA_DIR / \"articles-low-reliability-clean.jsonl\")"
   ]
  },
  {
   "cell_type": "code",
   "execution_count": 14,
   "metadata": {},
   "outputs": [
    {
     "data": {
      "image/png": "[encoded data removed]",
      "text/plain": [
       "<Figure size 432x288 with 1 Axes>"
      ]
     },
     "metadata": {
      "needs_background": "light"
     },
     "output_type": "display_data"
    }
   ],
   "source": [
    "sns.histplot(high_news.prob_high_quality, label='High Factuality News', kde=True, stat='density', color='#00bfff', alpha=0.6)\n",
    "\n",
    "ax = sns.histplot(low_news.prob_high_quality, label='Low Factuality News', kde=True, stat='density', color='#ff6961', alpha=0.6)\n",
    "plt.legend()\n",
    "ax.set_xlabel(\"P(high quality)\")\n",
    "plt.tight_layout()\n",
    "plt.savefig(\"high_low_news.pdf\", dpi=300, bbox_inches='tight')\n"
   ]
  },
  {
   "cell_type": "code",
   "execution_count": null,
   "metadata": {},
   "outputs": [],
   "source": []
  }
 ],
 "metadata": {
  "kernelspec": {
   "display_name": "demix",
   "language": "python",
   "name": "demix"
  },
  "language_info": {
   "codemirror_mode": {
    "name": "ipython",
    "version": 3
   },
   "file_extension": ".py",
   "mimetype": "text/x-python",
   "name": "python",
   "nbconvert_exporter": "python",
   "pygments_lexer": "ipython3",
   "version": "3.9.7"
  }
 },
 "nbformat": 4,
 "nbformat_minor": 4
}
